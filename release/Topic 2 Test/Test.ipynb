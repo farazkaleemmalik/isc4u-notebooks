{
 "cells": [
  {
   "cell_type": "code",
   "execution_count": null,
   "metadata": {
    "hide_input": true,
    "init_cell": true
   },
   "outputs": [],
   "source": [
    "public void check(boolean a) throws Exception {\n",
    "    if (!a) {\n",
    "        throw new Exception(\"Not equal\");\n",
    "    }\n",
    "}"
   ]
  },
  {
   "cell_type": "markdown",
   "metadata": {
    "deletable": false,
    "editable": false,
    "nbgrader": {
     "cell_type": "markdown",
     "checksum": "3cd6dc1c46e2c9d299cc6b6a0df84fc5",
     "grade": false,
     "grade_id": "cell-1b9771f63477e7f4",
     "locked": true,
     "schema_version": 3,
     "solution": false,
     "task": false
    }
   },
   "source": [
    "# Test\n",
    "\n",
    "1. What is a class? What is an object?"
   ]
  },
  {
   "cell_type": "markdown",
   "metadata": {
    "deletable": false,
    "nbgrader": {
     "cell_type": "markdown",
     "checksum": "2b718475ac125f897d3ce4a0c1271ff7",
     "grade": true,
     "grade_id": "1",
     "locked": false,
     "points": 2,
     "schema_version": 3,
     "solution": true,
     "task": false
    }
   },
   "source": [
    "YOUR ANSWER HERE"
   ]
  },
  {
   "cell_type": "markdown",
   "metadata": {
    "deletable": false,
    "editable": false,
    "nbgrader": {
     "cell_type": "markdown",
     "checksum": "d76957307a18fe59e32dd82f9f642939",
     "grade": false,
     "grade_id": "cell-12087fe6b9811d88",
     "locked": true,
     "schema_version": 3,
     "solution": false,
     "task": false
    }
   },
   "source": [
    "2. Make the below class gain a new property ```int age```, so that the constructor call has age as a parameter, e.g. ```Fruit f = new Fruit(\"apple\", 12)```: "
   ]
  },
  {
   "cell_type": "code",
   "execution_count": null,
   "metadata": {
    "deletable": false,
    "nbgrader": {
     "cell_type": "code",
     "checksum": "9a0f5fb4760c22bc238f692856145499",
     "grade": false,
     "grade_id": "cell-35a6772dbe482b37",
     "locked": false,
     "schema_version": 3,
     "solution": true,
     "task": false
    }
   },
   "outputs": [],
   "source": [
    "public class Fruit {\n",
    "    String name;\n",
    "    // YOUR CODE HERE\n",
    "    \n",
    "    public Fruit(String name) {\n",
    "        this.name = name;\n",
    "    }\n",
    "}"
   ]
  },
  {
   "cell_type": "code",
   "execution_count": null,
   "metadata": {
    "deletable": false,
    "editable": false,
    "nbgrader": {
     "cell_type": "code",
     "checksum": "73767832fcb323645e6f48e600113861",
     "grade": true,
     "grade_id": "2",
     "locked": true,
     "points": 1,
     "schema_version": 3,
     "solution": false,
     "task": false
    }
   },
   "outputs": [],
   "source": [
    "Fruit f = new Fruit(\"apple\", 12);\n"
   ]
  },
  {
   "cell_type": "markdown",
   "metadata": {
    "deletable": false,
    "editable": false,
    "nbgrader": {
     "cell_type": "markdown",
     "checksum": "79f9d093e8d0316ddf89b0672466226a",
     "grade": false,
     "grade_id": "cell-f13b0176e1b955e3",
     "locked": true,
     "schema_version": 3,
     "solution": false,
     "task": false
    }
   },
   "source": [
    "3. Create a class ```Ball``` with properties ```int radius```, ```String color```, and ```String name```. Place radius and color as parameters in the constructor, but set name to ```\"George\"``` for all instances."
   ]
  },
  {
   "cell_type": "code",
   "execution_count": null,
   "metadata": {
    "deletable": false,
    "nbgrader": {
     "cell_type": "code",
     "checksum": "582857bb0a64054a5c07af9488e176a9",
     "grade": false,
     "grade_id": "cell-b0b25d70dbdcb047",
     "locked": false,
     "schema_version": 3,
     "solution": true,
     "task": false
    }
   },
   "outputs": [],
   "source": [
    "public class Ball {\n",
    "    // YOUR CODE HERE\n",
    "}"
   ]
  },
  {
   "cell_type": "code",
   "execution_count": null,
   "metadata": {
    "deletable": false,
    "editable": false,
    "nbgrader": {
     "cell_type": "code",
     "checksum": "5494d585c62d4d93effcd8df376ae91f",
     "grade": true,
     "grade_id": "3",
     "locked": true,
     "points": 2,
     "schema_version": 3,
     "solution": false,
     "task": false
    }
   },
   "outputs": [],
   "source": [
    "Ball g = new Ball(12, \"green\");\n"
   ]
  },
  {
   "cell_type": "markdown",
   "metadata": {
    "deletable": false,
    "editable": false,
    "nbgrader": {
     "cell_type": "markdown",
     "checksum": "ec3bacabc055df47c1174d92f80f7287",
     "grade": false,
     "grade_id": "cell-9b782b2097e682d8",
     "locked": true,
     "schema_version": 3,
     "solution": false,
     "task": false
    }
   },
   "source": [
    "4. Based on the following class, create an instance of ```Cat```, ```Cat tom```, that is green, and 21 units tall. "
   ]
  },
  {
   "cell_type": "code",
   "execution_count": null,
   "metadata": {
    "deletable": false,
    "editable": false,
    "init_cell": true,
    "nbgrader": {
     "cell_type": "code",
     "checksum": "e459e417cd42c5b1c0b739b5ebf99484",
     "grade": false,
     "grade_id": "cell-1d3ce015f7c64480",
     "locked": true,
     "schema_version": 3,
     "solution": false,
     "task": false
    }
   },
   "outputs": [],
   "source": [
    "public class Cat {\n",
    "    int height;\n",
    "    String color;\n",
    "    \n",
    "    public Cat(int h, String c) {\n",
    "        this.color = c;\n",
    "        this.height = h;\n",
    "    }\n",
    "}"
   ]
  },
  {
   "cell_type": "code",
   "execution_count": null,
   "metadata": {
    "deletable": false,
    "nbgrader": {
     "cell_type": "code",
     "checksum": "5b7f77f538ee2fa75be3d31eb337b5b2",
     "grade": false,
     "grade_id": "4",
     "locked": false,
     "schema_version": 3,
     "solution": true,
     "task": false
    }
   },
   "outputs": [],
   "source": [
    "// YOUR CODE HERE"
   ]
  },
  {
   "cell_type": "code",
   "execution_count": null,
   "metadata": {
    "deletable": false,
    "editable": false,
    "nbgrader": {
     "cell_type": "code",
     "checksum": "80dd0d9e5697d5e7e002a5f3626c312b",
     "grade": true,
     "grade_id": "cell-82230c042e9b4602",
     "locked": true,
     "points": 1,
     "schema_version": 3,
     "solution": false,
     "task": false
    }
   },
   "outputs": [],
   "source": [
    "check(tom instanceof Cat);"
   ]
  },
  {
   "cell_type": "markdown",
   "metadata": {
    "deletable": false,
    "editable": false,
    "nbgrader": {
     "cell_type": "markdown",
     "checksum": "597fc8a17e483bde4863828dfebe672f",
     "grade": false,
     "grade_id": "cell-60109d0fbd80d8bd",
     "locked": true,
     "schema_version": 3,
     "solution": false,
     "task": false
    }
   },
   "source": [
    "5. Finally, given another instance of cat, ```Cat marco```, return the following ```String``` message (with the cat's actual properties): \"|color| |height|\"."
   ]
  },
  {
   "cell_type": "code",
   "execution_count": null,
   "metadata": {
    "deletable": false,
    "nbgrader": {
     "cell_type": "code",
     "checksum": "341fffb2ece5acee1addfa4b7cb4806b",
     "grade": false,
     "grade_id": "cell-eaab1f2b5d4a44f1",
     "locked": false,
     "schema_version": 3,
     "solution": true,
     "task": false
    }
   },
   "outputs": [],
   "source": [
    "public static String print(Cat marco) {\n",
    "    // YOUR CODE HERE\n",
    "}"
   ]
  },
  {
   "cell_type": "code",
   "execution_count": null,
   "metadata": {
    "deletable": false,
    "editable": false,
    "nbgrader": {
     "cell_type": "code",
     "checksum": "1ceed750c82fd9762052ab74ad29f566",
     "grade": true,
     "grade_id": "cell-c019e40f9bfb5cec",
     "locked": true,
     "points": 1,
     "schema_version": 3,
     "solution": false,
     "task": false
    }
   },
   "outputs": [],
   "source": []
  }
 ],
 "metadata": {
  "kernelspec": {
   "display_name": "Java",
   "language": "java",
   "name": "java"
  },
  "language_info": {
   "codemirror_mode": "java",
   "file_extension": ".jshell",
   "mimetype": "text/x-java-source",
   "name": "Java",
   "pygments_lexer": "java",
   "version": "11.0.7+10-post-Debian-3deb10u1"
  }
 },
 "nbformat": 4,
 "nbformat_minor": 4
}
