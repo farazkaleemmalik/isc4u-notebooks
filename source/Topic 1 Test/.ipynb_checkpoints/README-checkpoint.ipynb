{
 "cells": [
  {
   "cell_type": "code",
   "execution_count": null,
   "metadata": {
    "hide_input": true
   },
   "outputs": [],
   "source": [
    "public void check(boolean a) throws Exception {\n",
    "    if (!a) {\n",
    "        throw new Exception(\"Not equal\");\n",
    "    }\n",
    "}"
   ]
  },
  {
   "cell_type": "markdown",
   "metadata": {},
   "source": [
    "# Welcome to ICS4U in Jupyter Notebook!\n",
    "\n",
    "This is a student guide to learning from this notebook.\n",
    "\n",
    "## Introduction\n",
    "\n",
    "Jupyter notebook is a document format and standard for embedding live code into text documents. One main feature you'll be able to notice is that all code in this course is runnable in the browser, with console output appearing below it. To try it out, click on black arrow in the top left corner of the code below:"
   ]
  },
  {
   "cell_type": "code",
   "execution_count": null,
   "metadata": {},
   "outputs": [],
   "source": [
    "String a = \"Hello\";\n",
    "String b = \"World\";\n",
    "\n",
    "a + \" \" + b;"
   ]
  },
  {
   "cell_type": "markdown",
   "metadata": {},
   "source": [
    "As you can see, the code will be run with output on the bottom. You will also notice that you can edit the code. Try it out! (Say \"Hello Universe\"). \n",
    "\n",
    "Editing a notebook not in the ```source``` folder is completely okay, even encouraged! The source folder contains the unmarked versions of all documents, so if you are not in there, then edit and save away!\n",
    "\n",
    "Another useful feature is that, once code it run, variables and state are still saved. This means that you can access values in a code box from a different code box you have already run!"
   ]
  },
  {
   "cell_type": "code",
   "execution_count": null,
   "metadata": {},
   "outputs": [],
   "source": [
    "a + \" \" + b + \" again!\";"
   ]
  },
  {
   "cell_type": "markdown",
   "metadata": {
    "solution2": "hidden",
    "solution2_first": true
   },
   "source": [
    "Be sure to run all of the code boxes in order from top to bottom (as that is the intended order)!\n",
    "\n",
    "## Practice\n",
    "\n",
    "The practice will tend to have a few ungraded questions, for you to prepare for the test. One additional feature of these practices is that they have a \"hidden\" solution. These can be accessed by clicking on the \"Show Solution\" button under the question. That button will look like this: "
   ]
  },
  {
   "cell_type": "markdown",
   "metadata": {
    "solution2": "hidden"
   },
   "source": [
    "The solution is never giving up!"
   ]
  },
  {
   "cell_type": "markdown",
   "metadata": {},
   "source": [
    "One more thing about practice: you might see code cells full of statements like ```check(fun(a) == b)```. These are simply test cases, there to help you verify that you have written your solution correctly. To use them, run the code cell that you wrote/edited your code in, then run the test cases cell. If there is no console output, your solution is correct! If not then you might get an error like below:"
   ]
  },
  {
   "cell_type": "code",
   "execution_count": null,
   "metadata": {},
   "outputs": [],
   "source": [
    "public static int s(int a, int b) { // Run this cell first\n",
    "    return 0;\n",
    "}"
   ]
  },
  {
   "cell_type": "code",
   "execution_count": null,
   "metadata": {
    "scrolled": true
   },
   "outputs": [],
   "source": [
    "check(s(1,2) == 3);\n",
    "check(s(3,4) == 7);"
   ]
  },
  {
   "cell_type": "markdown",
   "metadata": {},
   "source": [
    "\n",
    "## Tests\n",
    "\n",
    "Your tests will be mostly autograded, with a few teacher graded responses. Follow the question's instructions, which will usually have you writing or editing code. \n",
    "\n",
    "You may see some empty, locked cells underneath some of your problems, like this:"
   ]
  },
  {
   "cell_type": "code",
   "execution_count": null,
   "metadata": {
    "deletable": false,
    "editable": false
   },
   "outputs": [],
   "source": []
  },
  {
   "cell_type": "markdown",
   "metadata": {},
   "source": [
    "These are simply a placeholder for hidden test cases; your code will be graded based on these test cases, so make sure you follow the question exactly. Empty cells like these can be ignored. Sometimes, a question might have both visible test cases and hidden test cases."
   ]
  }
 ],
 "metadata": {
  "kernelspec": {
   "display_name": "Java",
   "language": "java",
   "name": "java"
  },
  "language_info": {
   "codemirror_mode": "java",
   "file_extension": ".jshell",
   "mimetype": "text/x-java-source",
   "name": "Java",
   "pygments_lexer": "java",
   "version": "11.0.7+10-post-Debian-3deb10u1"
  }
 },
 "nbformat": 4,
 "nbformat_minor": 4
}
