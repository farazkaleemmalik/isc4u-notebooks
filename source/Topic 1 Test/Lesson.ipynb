{
 "cells": [
  {
   "cell_type": "markdown",
   "metadata": {
    "deletable": false,
    "editable": false,
    "run_control": {
     "frozen": true
    }
   },
   "source": [
    "# Methods/Functions\n",
    "\n",
    "We have already covered the basics of Java, such as variables, types, arrays, conditionals, and loops, so now we will talk about another basic building block of programming: the function. To show exactly what purpose a function serves, let us examine the below problem:"
   ]
  },
  {
   "cell_type": "code",
   "execution_count": 1,
   "metadata": {
    "init_cell": true
   },
   "outputs": [],
   "source": [
    "final int a = 145;"
   ]
  },
  {
   "cell_type": "markdown",
   "metadata": {
    "deletable": false,
    "editable": false,
    "run_control": {
     "frozen": true
    }
   },
   "source": [
    "1. Create a program that, given ```int a```, adds the sum of all the digits of ```a``` to ```a```, and prints out the result.\n",
    "\n",
    "Example:\n",
    "\n",
    "Input: 145\n",
    "\n",
    "Output: 155"
   ]
  },
  {
   "cell_type": "code",
   "execution_count": null,
   "metadata": {
    "solution2": "hidden",
    "solution2_first": true
   },
   "outputs": [],
   "source": []
  },
  {
   "cell_type": "code",
   "execution_count": 14,
   "metadata": {
    "solution2": "hidden"
   },
   "outputs": [
    {
     "name": "stdout",
     "output_type": "stream",
     "text": [
      "155\n"
     ]
    }
   ],
   "source": [
    "int b = a; // Same as a but we dont want to modify a\n",
    "int sum = 0; // Running sum of all the digits\n",
    "while (b > 0) {\n",
    "    sum += b % 10;\n",
    "    b /= 10;\n",
    "}\n",
    "\n",
    "System.out.println(sum + a);"
   ]
  },
  {
   "cell_type": "markdown",
   "metadata": {
    "deletable": false,
    "editable": false,
    "run_control": {
     "frozen": true
    }
   },
   "source": [
    "This might be easy for one input, but how about three inputs?"
   ]
  },
  {
   "cell_type": "code",
   "execution_count": 2,
   "metadata": {
    "init_cell": true,
    "solution2": "hidden",
    "solution2_first": true
   },
   "outputs": [],
   "source": [
    "final int f = 10;\n",
    "final int c = 4566;\n",
    "final int d = 8888;"
   ]
  },
  {
   "cell_type": "code",
   "execution_count": 15,
   "metadata": {
    "solution2": "hidden"
   },
   "outputs": [
    {
     "name": "stdout",
     "output_type": "stream",
     "text": [
      "11\n",
      "4587\n",
      "8920\n"
     ]
    }
   ],
   "source": [
    "int b = f; // Same as a but we dont want to modify a\n",
    "int sum = 0; // Running sum of all the digits\n",
    "while (b > 0) {\n",
    "    sum += b % 10;\n",
    "    b /= 10;\n",
    "}\n",
    "\n",
    "System.out.println(sum + f);\n",
    "\n",
    "int b = c; // Same as a but we dont want to modify a\n",
    "int sum = 0; // Running sum of all the digits\n",
    "while (b > 0) {\n",
    "    sum += b % 10;\n",
    "    b /= 10;\n",
    "}\n",
    "\n",
    "System.out.println(sum + c);\n",
    "\n",
    "int b = d; // Same as a but we dont want to modify a\n",
    "int sum = 0; // Running sum of all the digits\n",
    "while (b > 0) {\n",
    "    sum += b % 10;\n",
    "    b /= 10;\n",
    "}\n",
    "\n",
    "System.out.println(sum + d);"
   ]
  },
  {
   "cell_type": "markdown",
   "metadata": {
    "solution2": "hidden"
   },
   "source": [
    "Simple enough! Copy and paste is your friend."
   ]
  },
  {
   "cell_type": "markdown",
   "metadata": {
    "deletable": false,
    "editable": false,
    "run_control": {
     "frozen": true
    }
   },
   "source": [
    "Now for the tricky part: for the solution for the three inputs above, change it so that the sum of all digits, plus the number itself, *plus* the ones place digit, is shown. Try it below:"
   ]
  },
  {
   "cell_type": "code",
   "execution_count": null,
   "metadata": {
    "solution2": "hidden",
    "solution2_first": true
   },
   "outputs": [],
   "source": []
  },
  {
   "cell_type": "code",
   "execution_count": null,
   "metadata": {
    "solution2": "hidden"
   },
   "outputs": [],
   "source": [
    "int b = f; // Same as a but we dont want to modify a\n",
    "int sum = 0; // Running sum of all the digits\n",
    "while (b > 0) {\n",
    "    sum += b % 10;\n",
    "    b /= 10;\n",
    "}\n",
    "\n",
    "System.out.println(sum + f + (f % 10));\n",
    "\n",
    "int b = c; // Same as a but we dont want to modify a\n",
    "int sum = 0; // Running sum of all the digits\n",
    "while (b > 0) {\n",
    "    sum += b % 10;\n",
    "    b /= 10;\n",
    "}\n",
    "\n",
    "System.out.println(sum + c + (f % 10));\n",
    "\n",
    "int b = d; // Same as a but we dont want to modify a\n",
    "int sum = 0; // Running sum of all the digits\n",
    "while (b > 0) {\n",
    "    sum += b % 10;\n",
    "    b /= 10;\n",
    "}\n",
    "\n",
    "System.out.println(sum + d + (f % 10));"
   ]
  },
  {
   "cell_type": "markdown",
   "metadata": {
    "deletable": false,
    "editable": false,
    "run_control": {
     "frozen": true
    }
   },
   "source": [
    "You might have found this process a bit tedious: editing the same code over and over again, and making sure that all those code segments you copy and pasted are the new version of the question. Now imagine if you are writing a project where this algorithm, the code segment adding the sum of digits to the number itself, is used **thousands** of times, over multiple files. Then imagine having to change that segment of code for each and every file when you want to update it, or more likely, if you find a bug in it. Sound like a nightmare?"
   ]
  },
  {
   "cell_type": "markdown",
   "metadata": {
    "deletable": false,
    "editable": false,
    "run_control": {
     "frozen": true
    }
   },
   "source": [
    "This problem, among others, is what functions solve. Functions, called methods in Java, are segments of reusable code that can, like mathematical functions, take input and return output. They must always exist within a class, and can have modifiers to change how the function is called and how it behaves."
   ]
  },
  {
   "cell_type": "markdown",
   "metadata": {
    "deletable": false,
    "editable": false,
    "run_control": {
     "frozen": true
    }
   },
   "source": [
    "For the first problem, the solution could be written as:"
   ]
  },
  {
   "cell_type": "code",
   "execution_count": null,
   "metadata": {},
   "outputs": [],
   "source": [
    "public static void getSum(int n) {\n",
    "    int b = n; // Same as a but we dont want to modify a\n",
    "    int sum = 0; // Running sum of all the digits\n",
    "    while (b > 0) {\n",
    "        sum += b % 10;\n",
    "        b /= 10;\n",
    "    }\n",
    "    \n",
    "    System.out.println(n + sum);\n",
    "}\n",
    "\n",
    "getSum(a);\n",
    "getSum(f);\n",
    "getSum(c);\n",
    "getSum(d);"
   ]
  },
  {
   "cell_type": "markdown",
   "metadata": {
    "deletable": false,
    "editable": false,
    "run_control": {
     "frozen": true
    }
   },
   "source": [
    "Notice that if I now want to add the ones place digit to the number being printed, I only have to change one line of code, not matter how many times and how many places the function is called. Neat! Some other uses of functions are to make more abstract commands from tediously long and complicated algorithms, and recursion.  "
   ]
  },
  {
   "cell_type": "markdown",
   "metadata": {
    "deletable": false,
    "editable": false,
    "run_control": {
     "frozen": true
    }
   },
   "source": [
    "Java functions specifically tend to have lots of syntax (like in keywords and parameters) because Java is a strongly typed language. This means that every variable, array, and method needs to be declared with a data type, and this cannot be changed. Since methods need to both take in and return data, your method will have to declare many different types! In Java, all of the type declarations for what your method gives and receives lives in the **method declaration**, which is the first line of code for every function. Method declarations follow this pattern:"
   ]
  },
  {
   "cell_type": "markdown",
   "metadata": {
    "deletable": false,
    "editable": false,
    "run_control": {
     "frozen": true
    }
   },
   "source": [
    "```\n",
    "<keywords> <return type> methodName(<parameters with types>)\n",
    "```\n",
    "For example:\n",
    "```\n",
    "public int fun(int n, String r)\n",
    "```"
   ]
  },
  {
   "cell_type": "markdown",
   "metadata": {
    "deletable": false,
    "editable": false,
    "run_control": {
     "frozen": true
    }
   },
   "source": [
    "To return data from a method, simply use the ```return``` keyword. Remember, the returned value needs to have the same type as the function declaration, or you will get a compiler error!"
   ]
  },
  {
   "cell_type": "code",
   "execution_count": null,
   "metadata": {},
   "outputs": [],
   "source": [
    "public int fun(int n, String g) {\n",
    "    int r = 4;\n",
    "    return r; // r is an int, so no errors here\n",
    "}\n",
    "\n",
    "fun(1, \"1\");"
   ]
  },
  {
   "cell_type": "markdown",
   "metadata": {
    "deletable": false,
    "editable": false,
    "run_control": {
     "frozen": true
    }
   },
   "source": [
    "Final caveat: As you may have seen earlier, some functions don't actually have to return anything. These functions, in the return type portion of their method declaration, have the keyword ```void``` instead of a type, indicating as such."
   ]
  }
 ],
 "metadata": {
  "kernelspec": {
   "display_name": "Java",
   "language": "java",
   "name": "java"
  },
  "language_info": {
   "codemirror_mode": "java",
   "file_extension": ".jshell",
   "mimetype": "text/x-java-source",
   "name": "Java",
   "pygments_lexer": "java",
   "version": "11.0.7+10-post-Debian-3deb10u1"
  }
 },
 "nbformat": 4,
 "nbformat_minor": 4
}
