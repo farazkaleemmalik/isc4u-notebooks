{
 "cells": [
  {
   "cell_type": "markdown",
   "metadata": {},
   "source": [
    "# Number systems - Converting between different systems\n",
    "\n",
    "This lesson is very technical in terms of math, and since this lesson has nothing to do with Java specifically, we will use a Python kernel instead for math calculations. That is to say, the code boxes in this lesson, practice, and test will be in python, so no need for type declarations and all that. Use python syntax in the code boxes.\n",
    "\n",
    "## Number Systems\n",
    "\n",
    "What even are number systems? Number systems are a way for us to use a finite number of symbols, or digits, to represent an infinite amount of numbers. We can do this by systematically using every possible combination of n digits before adding on another digit an repeating. The counting system that you are most familiar with, base 10, has 10 digits: 0, 1, 2, 3, 4, 5, 6, 7, 8, 9. Some other counting systems we will encounter, like base 2 or base 16, have 2 and 16 digits in total. Lets count in some of these number systems!"
   ]
  },
  {
   "cell_type": "code",
   "execution_count": null,
   "metadata": {},
   "outputs": [],
   "source": [
    "# Count in base 10:\n",
    "for i in range(10):\n",
    "    print(i)"
   ]
  },
  {
   "cell_type": "code",
   "execution_count": null,
   "metadata": {},
   "outputs": [],
   "source": [
    "# Count in base 2, or binary\n",
    "for i in range(10):\n",
    "    print(\"{0:b}\".format(i)) # https://stackoverflow.com/questions/699866/python-int-to-binary-string"
   ]
  },
  {
   "cell_type": "code",
   "execution_count": null,
   "metadata": {},
   "outputs": [],
   "source": [
    "# Count in hexadecimal(base 16)\n",
    "for i in range(25):\n",
    "    print(\"{0:x}\".format(i))"
   ]
  },
  {
   "cell_type": "markdown",
   "metadata": {},
   "source": [
    "Within each number system, counting starts with the first digit, 0 in all cases, and keeps on changing the digit until all the digits run out. If the digits run out, like for 2 in base 2 for example, the ones digits is replaced with the lowest value digit (0) and a new digit is added on to the left, the tens digit, making 1+1=10 in binary. Although binary tends to use a lot more digits to represent the same number than in base 10, the reason binary is so important for computers is that it can be represented in a machine much more easily, since there are only two digits. Examples can be using electric wires (current/no current), switched (on/off), and lights (light/no light). This is why converting from base 10, the most common counting system for humans, and binary, the most common counting system for machines, is so important.\n",
    "\n",
    "## Converting between Number Systems\n",
    "\n",
    "### From nondecimal to decimal\n",
    "\n",
    "There are many methods for converting between number systems. To convert from a number system to decimal, simply multiply each digit by their base 10 place value. For example, 101101 in decimal is:\n",
    "\n",
    "1 0 1   1 0 1\n",
    "\n",
    "1 + 4 + 8 + 32 = 45\n",
    "\n",
    "Since the base is 2, the place value for the first digit is 2^0, the second is 2^1, the third is 2^3, and so on. **Any whole number can be represented as the sum of powers of 2**, and this can also be applied to other bases, like 16. For example, fff in base 16 is:\n",
    "\n",
    "f                 f                  f\n",
    "\n",
    "15 * 16^0 + 15 * 15 * 16^1 + 15 * 16^2 = 4095\n",
    "\n",
    "For any base, any number can only be represented in one way, and any whole number can be represented in any counting system (one-to-one relationship).\n",
    "\n",
    "### From decimal to nondecimal\n",
    "\n",
    "Decimal to nondecimal is a little trickier. The trick is use a similar method to long division. Lets try to convert the number 142 into binary. First, find the largest power of the base smaller than the number. In this case, 2^7=128. Keep on subtracting that power of the base from the number until subtracting more will cause the number to be negative. In this case, the first subtraction 142-128=14, so only one subtraction. The number of times you subtract is the digit you place in the 128's place, in this case. The 128ths place in base 2 is the 8th digit, so we set the 8th digit to the left as 1.\n",
    "\n",
    "1 0 0 0 0 0 0 0\n",
    "\n",
    "Repeat this process of finding the largest power of the base and subtracting until they number you started off with is 0.\n",
    "\n",
    "Largest Power of 2: 8 (2^4)\n",
    "14-8=6\n",
    "\n",
    "1 0 0 0 1 0 0 0\n",
    "\n",
    "Largest Power of 2: 4 (2^2)\n",
    "6-4=2\n",
    "\n",
    "1 0 0 0 1 1 0 0\n",
    "\n",
    "Largest Power of 2: 2 (2^1)\n",
    "2-2=0\n",
    "\n",
    "1 0 0 0 1 1 1 0\n",
    "\n",
    "Now that the number is 0, our conversion is done. 142 in binary is 10001110.\n",
    "\n",
    "### Nondecimal to nondecimal\n",
    "\n",
    "If you have to, for example, convert from 10010111 in base 2 to base 16, one technique is to convert from base 2 to decimal, and then from decimal to base 16, using the two methods above. This can get tedious, with "
   ]
  }
 ],
 "metadata": {
  "kernelspec": {
   "display_name": "Python 3",
   "language": "python",
   "name": "python3"
  },
  "language_info": {
   "codemirror_mode": {
    "name": "ipython",
    "version": 3
   },
   "file_extension": ".py",
   "mimetype": "text/x-python",
   "name": "python",
   "nbconvert_exporter": "python",
   "pygments_lexer": "ipython3",
   "version": "3.7.3"
  }
 },
 "nbformat": 4,
 "nbformat_minor": 4
}
