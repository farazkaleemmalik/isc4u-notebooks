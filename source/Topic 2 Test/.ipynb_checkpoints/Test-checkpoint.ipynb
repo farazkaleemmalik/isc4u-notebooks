{
 "cells": [
  {
   "cell_type": "code",
   "execution_count": 9,
   "metadata": {
    "hide_input": true,
    "init_cell": true
   },
   "outputs": [],
   "source": [
    "public void check(boolean a) throws Exception {\n",
    "    if (!a) {\n",
    "        throw new Exception(\"Not equal\");\n",
    "    }\n",
    "}"
   ]
  },
  {
   "cell_type": "markdown",
   "metadata": {
    "nbgrader": {
     "grade": false,
     "grade_id": "cell-1b9771f63477e7f4",
     "locked": true,
     "schema_version": 3,
     "solution": false,
     "task": false
    }
   },
   "source": [
    "# Test\n",
    "\n",
    "1. What is a class? What is an object?"
   ]
  },
  {
   "cell_type": "markdown",
   "metadata": {
    "nbgrader": {
     "grade": true,
     "grade_id": "1",
     "locked": false,
     "points": 2,
     "schema_version": 3,
     "solution": true,
     "task": false
    }
   },
   "source": []
  },
  {
   "cell_type": "markdown",
   "metadata": {
    "nbgrader": {
     "grade": false,
     "grade_id": "cell-12087fe6b9811d88",
     "locked": true,
     "schema_version": 3,
     "solution": false,
     "task": false
    }
   },
   "source": [
    "2. Make the below class gain a new property ```int age```, so that the constructor call has age as a parameter, e.g. ```Fruit f = new Fruit(\"apple\", 12)```: "
   ]
  },
  {
   "cell_type": "code",
   "execution_count": null,
   "metadata": {
    "nbgrader": {
     "grade": false,
     "grade_id": "cell-35a6772dbe482b37",
     "locked": false,
     "schema_version": 3,
     "solution": true,
     "task": false
    }
   },
   "outputs": [],
   "source": [
    "public class Fruit {\n",
    "    String name;\n",
    "    // BEGIN SOLUTION\n",
    "    \n",
    "    // END SOLUTION\n",
    "    \n",
    "    public Fruit(String name) {\n",
    "        this.name = name;\n",
    "    }\n",
    "}"
   ]
  },
  {
   "cell_type": "code",
   "execution_count": null,
   "metadata": {
    "nbgrader": {
     "grade": true,
     "grade_id": "2",
     "locked": true,
     "points": 1,
     "schema_version": 3,
     "solution": false,
     "task": false
    }
   },
   "outputs": [],
   "source": [
    "Fruit f = new Fruit(\"apple\", 12);\n",
    "\n",
    "// BEGIN HIDDEN TESTS\n",
    "\n",
    "check(f.name.equals(\"apple\"));\n",
    "check(f.age == 12);\n",
    "\n",
    "// END HIDDEN TESTS"
   ]
  },
  {
   "cell_type": "markdown",
   "metadata": {
    "nbgrader": {
     "grade": false,
     "grade_id": "cell-f13b0176e1b955e3",
     "locked": true,
     "schema_version": 3,
     "solution": false,
     "task": false
    }
   },
   "source": [
    "3. Create a class ```Ball``` with properties ```int radius```, ```String color```, and ```String name```. Place radius and color as parameters in the constructor, but set name to ```\"George\"``` for all instances."
   ]
  },
  {
   "cell_type": "code",
   "execution_count": null,
   "metadata": {
    "nbgrader": {
     "grade": false,
     "grade_id": "cell-b0b25d70dbdcb047",
     "locked": false,
     "schema_version": 3,
     "solution": true,
     "task": false
    }
   },
   "outputs": [],
   "source": [
    "public class Ball {\n",
    "    // BEGIN SOLUTION\n",
    "    int radius;\n",
    "    String color, name;\n",
    "    \n",
    "    public Ball(int r, String c) {\n",
    "        this.name = \"George\";\n",
    "        this.radius = r;\n",
    "        this.color = c;\n",
    "    }\n",
    "    // END SOLUTION\n",
    "}"
   ]
  },
  {
   "cell_type": "code",
   "execution_count": null,
   "metadata": {
    "nbgrader": {
     "grade": true,
     "grade_id": "3",
     "locked": true,
     "points": 2,
     "schema_version": 3,
     "solution": false,
     "task": false
    }
   },
   "outputs": [],
   "source": [
    "Ball g = new Ball(12, \"green\");\n",
    "\n",
    "// BEGIN HIDDEN TESTS\n",
    "check(g.color.equals(\"green\"));\n",
    "check(g.radius == 12);\n",
    "check(g.name.equals(\"George\"));\n",
    "// END HIDDEN TESTS"
   ]
  },
  {
   "cell_type": "markdown",
   "metadata": {
    "nbgrader": {
     "grade": false,
     "grade_id": "cell-9b782b2097e682d8",
     "locked": true,
     "schema_version": 3,
     "solution": false,
     "task": false
    }
   },
   "source": [
    "4. Based on the following class, create an instance of ```Cat```, ```Cat tom```, that is green, and 21 units tall. "
   ]
  },
  {
   "cell_type": "code",
   "execution_count": 10,
   "metadata": {
    "init_cell": true,
    "nbgrader": {
     "grade": false,
     "grade_id": "cell-1d3ce015f7c64480",
     "locked": true,
     "schema_version": 3,
     "solution": false,
     "task": false
    }
   },
   "outputs": [],
   "source": [
    "public class Cat {\n",
    "    int height;\n",
    "    String color;\n",
    "    \n",
    "    public Cat(int h, String c) {\n",
    "        this.color = c;\n",
    "        this.height = h;\n",
    "    }\n",
    "}"
   ]
  },
  {
   "cell_type": "code",
   "execution_count": null,
   "metadata": {
    "nbgrader": {
     "grade": false,
     "grade_id": "4",
     "locked": false,
     "schema_version": 3,
     "solution": true,
     "task": false
    }
   },
   "outputs": [],
   "source": [
    "// BEGIN SOLUTION\n",
    "Cat tom = new Cat(21, \"green\");\n",
    "// END SOLUTION"
   ]
  },
  {
   "cell_type": "code",
   "execution_count": null,
   "metadata": {
    "nbgrader": {
     "grade": true,
     "grade_id": "cell-82230c042e9b4602",
     "locked": true,
     "points": 1,
     "schema_version": 3,
     "solution": false,
     "task": false
    }
   },
   "outputs": [],
   "source": [
    "check(tom instanceof Cat);"
   ]
  },
  {
   "cell_type": "markdown",
   "metadata": {
    "nbgrader": {
     "grade": false,
     "grade_id": "cell-60109d0fbd80d8bd",
     "locked": true,
     "schema_version": 3,
     "solution": false,
     "task": false
    }
   },
   "source": [
    "5. Finally, given another instance of cat, ```Cat marco```, return the following ```String``` message (with the cat's actual properties): \"|color| |height|\"."
   ]
  },
  {
   "cell_type": "code",
   "execution_count": null,
   "metadata": {
    "nbgrader": {
     "grade": false,
     "grade_id": "cell-eaab1f2b5d4a44f1",
     "locked": false,
     "schema_version": 3,
     "solution": true,
     "task": false
    }
   },
   "outputs": [],
   "source": [
    "public static String print(Cat marco) {\n",
    "    // BEGIN SOLUTION\n",
    "    return marco.color + \" \" + marco.height;\n",
    "    // END SOLUTION\n",
    "}"
   ]
  },
  {
   "cell_type": "code",
   "execution_count": null,
   "metadata": {
    "nbgrader": {
     "grade": true,
     "grade_id": "cell-c019e40f9bfb5cec",
     "locked": true,
     "points": 1,
     "schema_version": 3,
     "solution": false,
     "task": false
    }
   },
   "outputs": [],
   "source": [
    "// BEGIN HIDDEN TESTS\n",
    "check(print(new Cat(32, \"purple\")).equals(\"32 purple\"));\n",
    "// END HIDDEN TESTS"
   ]
  }
 ],
 "metadata": {
  "celltoolbar": "Create Assignment",
  "kernelspec": {
   "display_name": "Java",
   "language": "java",
   "name": "java"
  },
  "language_info": {
   "codemirror_mode": "java",
   "file_extension": ".jshell",
   "mimetype": "text/x-java-source",
   "name": "Java",
   "pygments_lexer": "java",
   "version": "11.0.7+10-post-Debian-3deb10u1"
  }
 },
 "nbformat": 4,
 "nbformat_minor": 4
}
