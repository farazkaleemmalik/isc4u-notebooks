{
 "cells": [
  {
   "cell_type": "markdown",
   "metadata": {},
   "source": [
    "# Classes and Objects\n",
    "\n",
    "Now we will start to learn about a programming paradigm that Java excels at: Object Oriented Programming, OOP for short. Up till now, you have been working somewhat with objects and their methods (like Strings), so this lesson will look at creating your own types of objects and classes.\n",
    "\n",
    "## Definitions\n",
    "\n",
    "Before we get too far in this, lets define what a class and object are. A class in Java can be seen as a data type: although the class cannot be assigned itself to a variable, *objects* that follow the class can. Objects, on the other hand, follow classes, or more specifically are an *instance* of a class. These values are data and can be assigned to a variable. \n",
    "\n",
    "Objects and classes can be used as a real-life paradigm as well. Take for example your pet cat (if you have one). Your specific cat, lets call him Joe, is an *instance* of a cat. What this means is that Joe has the same types of properties (color, whisker length) as other cats and does the same things as other cats (sleep, purr). In this case, Cat would be the class, which Joe follows, and Joe himself would be an Object, being a concrete manifestation of the class.\n",
    "\n",
    "## Syntax\n",
    "\n",
    "### Class\n",
    "\n",
    "Here is an example of a possible implementation of the Cat class:\n"
   ]
  },
  {
   "cell_type": "code",
   "execution_count": null,
   "metadata": {},
   "outputs": [],
   "source": [
    "public class Cat {\n",
    "    int whisker_length;\n",
    "    String color;\n",
    "    \n",
    "    public Cat(int wl, String c) {\n",
    "        this.whisker_length = wl;\n",
    "        this.color = c;\n",
    "    }\n",
    "    \n",
    "    public void purr() {\n",
    "        // Purr\n",
    "    }\n",
    "    \n",
    "    public void sleep(int time) {\n",
    "        // Sleep time\n",
    "    }\n",
    "}"
   ]
  },
  {
   "cell_type": "markdown",
   "metadata": {},
   "source": [
    "Notice the distinction between a cat's *attributes* and *actions*. If the cat can do something, like purr or sleep, then this would be included in the class as a **method**. In programming terms, whenever you want the object to interact with other objects or the program, use a method. **Properties** on the other hand are values that a given cat has, like whisker length and color. These can be accessed by methods and change their behavior, or be accessed by other objects and programs.\n",
    "\n",
    "Syntax for declaring a class:\n",
    "\n",
    "```public class <className> ```\n",
    "\n",
    "Syntax for adding a property in a class (we'll talk about modifiers later):\n",
    "\n",
    "```<modifier> <dataType> <propertyName>;```\n",
    "\n",
    "Syntax for adding a method in a class:\n",
    "\n",
    "```<modifier> <returnType> <methodName>(<parametersWithTypes>)```\n",
    "\n",
    "Notice how the class simply says that these properties exist, but do not set them to anything. Deciding exactly what these properties take the value of is up to the code that creates an instance of this class. Lets try to do that now.\n",
    "\n",
    "### Constructor Call"
   ]
  },
  {
   "cell_type": "code",
   "execution_count": null,
   "metadata": {},
   "outputs": [],
   "source": [
    "Cat Joe = new Cat(2, \"red\");"
   ]
  },
  {
   "cell_type": "markdown",
   "metadata": {},
   "source": [
    "Note how this object is:\n",
    "1. Assigned to a variable (since it is a piece of data)\n",
    "2. Has the word \"Cat\" where you would normally put \"int\" or \"String\"\n",
    "3. Created by putting the word \"new\" in front of the class, but called as a function/method with parameters\n",
    "\n",
    "The syntax for creating an instance of a class and assigning it to a variable:\n",
    "\n",
    "```<className> <variableName> = new <className>(<parametersWithTypes>)```\n",
    "\n",
    "The parameters of the class, when called as a function/method, are defined in the class's **constructor**, which is the function that is called when the object is created. Note: A class does not *have* to have a constructor, but most classes will.\n",
    "\n",
    "### Constructor\n",
    "\n",
    "In the Cat class, the constructor was:"
   ]
  },
  {
   "cell_type": "code",
   "execution_count": null,
   "metadata": {},
   "outputs": [],
   "source": [
    "public Cat(int wl, String c) {\n",
    "    this.whisker_length = wl;\n",
    "    this.color = c;\n",
    "}"
   ]
  },
  {
   "cell_type": "markdown",
   "metadata": {},
   "source": [
    "The syntax for writing a constructor method in a class is:\n",
    "\n",
    "```public <className>(<parametersWithTypes>)```\n",
    "\n",
    "Note how this method is the only method in a class without a return type. This is because what is returned is a new instance of the class, a new object, of type whatever your class is.\n",
    "\n",
    "## Accessing Methods and Properties\n",
    "\n",
    "Now that you have a Cat object that you have constructed (called the constructor to create), lets try accessing some of the properties and methods we defined it the class. We already have an instance of Cat, Joe, so lets try to find out some things about Joe."
   ]
  },
  {
   "cell_type": "code",
   "execution_count": null,
   "metadata": {},
   "outputs": [],
   "source": [
    "Joe.whisker_length;"
   ]
  },
  {
   "cell_type": "code",
   "execution_count": null,
   "metadata": {},
   "outputs": [],
   "source": [
    "Joe.color;"
   ]
  },
  {
   "cell_type": "markdown",
   "metadata": {},
   "source": [
    "The syntax for accessing a property of an instance of a class is: ```<object>.<propertyName>```\n",
    "\n",
    "Similarly, to access a method:\n",
    "\n",
    "```<object>.<methodName>(<parametersWithTypes>)```\n",
    "\n",
    "For example:"
   ]
  },
  {
   "cell_type": "code",
   "execution_count": null,
   "metadata": {},
   "outputs": [],
   "source": [
    "Joe.meow(); // This won't do anything since we have no code inside the method! See the class definition again"
   ]
  },
  {
   "cell_type": "markdown",
   "metadata": {},
   "source": [
    "### this Keyword\n",
    "\n",
    "You may have noticed that in the constructor, the highlighted keyword ```this``` is used. Whenever the keyword this is used, it always references the instance of the object, similar to \"self\" in Python. So, in the constructor, by setting some of \"this\"'s properties to those listed in the constructor, objects created by a class can, using the same function that creates the object, have some properties initialized to a value. In the case of the Cat class, the properties \"whisker_length\" and \"color\" are set to a value, provided as arguments to the constructor."
   ]
  },
  {
   "cell_type": "code",
   "execution_count": null,
   "metadata": {},
   "outputs": [],
   "source": [
    "Cat Bob = new Cat(/*whisker_length*/ 3, /*color*/ \"brown\");"
   ]
  },
  {
   "cell_type": "markdown",
   "metadata": {},
   "source": [
    "## Encapsulation\n",
    "\n",
    "Encapsulation is the selective exposure and concealment of methods and properties. You can restrict access to certain variable or method by adding the ```private``` keyword in front of it. Lets redefine the Cat class to add a private variable:"
   ]
  },
  {
   "cell_type": "code",
   "execution_count": 5,
   "metadata": {},
   "outputs": [],
   "source": [
    "public class Cat {\n",
    "    int whisker_length;\n",
    "    String color;\n",
    "    private boolean secret;\n",
    "    \n",
    "    public Cat(int wl, String c, boolean s) {\n",
    "        this.whisker_length = wl;\n",
    "        this.color = c;\n",
    "        this.secret = s;\n",
    "    }\n",
    "    \n",
    "    public void purr() {\n",
    "        // Purr\n",
    "    }\n",
    "    \n",
    "    public void sleep(int time) {\n",
    "        // Sleep time\n",
    "    }\n",
    "    \n",
    "    public boolean didHeEatTheCookie() {\n",
    "        return this.secret;\n",
    "    }\n",
    "}\n",
    "\n",
    "Cat Jim = new Cat(3, \"green\", true);"
   ]
  },
  {
   "cell_type": "markdown",
   "metadata": {},
   "source": [
    "Notice how in the ```didHeEatTheCookie``` method, ```secret``` is accessed. This is because a private variable can be accessed within the class.\n",
    "\n",
    "Now, lets try to access the ```secret``` property from outside the class, use the property access syntax from before:"
   ]
  },
  {
   "cell_type": "code",
   "execution_count": null,
   "metadata": {},
   "outputs": [],
   "source": [
    "Jim.secret;"
   ]
  },
  {
   "cell_type": "markdown",
   "metadata": {},
   "source": [
    "We get an error since the variable cannot be accessed. However, we have a method that returns us the secret, but this time ```secret``` is accessed from inside the class: "
   ]
  },
  {
   "cell_type": "code",
   "execution_count": null,
   "metadata": {},
   "outputs": [],
   "source": [
    "Jim.didHeEatTheCookie();"
   ]
  },
  {
   "cell_type": "markdown",
   "metadata": {},
   "source": [
    "This could be a problem! Lets make this method private as well."
   ]
  },
  {
   "cell_type": "code",
   "execution_count": null,
   "metadata": {},
   "outputs": [],
   "source": [
    "public class Cat {\n",
    "    int whisker_length;\n",
    "    String color;\n",
    "    private boolean secret;\n",
    "    \n",
    "    public Cat(int wl, String c, boolean s) {\n",
    "        this.whisker_length = wl;\n",
    "        this.color = c;\n",
    "        this.secret = s;\n",
    "    }\n",
    "    \n",
    "    public void purr() {\n",
    "        // Purr\n",
    "    }\n",
    "    \n",
    "    public void sleep(int time) {\n",
    "        // Sleep time\n",
    "    }\n",
    "    \n",
    "    private public boolean didHeEatTheCookie() {\n",
    "        return this.secret;\n",
    "    }\n",
    "}\n",
    "\n",
    "Cat Jim = new Cat(3, \"green\", true);"
   ]
  },
  {
   "cell_type": "markdown",
   "metadata": {},
   "source": [
    "Now there is no way to access the value of a Cat's secret property!"
   ]
  },
  {
   "cell_type": "markdown",
   "metadata": {},
   "source": [
    "## Use\n",
    "\n",
    "What purpose does organizing programs into classes serve? Classes are extremely useful because a lot of information about a given object can be inferred based on its type. For example, we know that the objects that are from the Cat class, or are of the type Cat, have the properties whisker_length and color. This will be true for **every** Cat object: it is not possible to create a Cat object without these two properties. This is useful for, for example, in another class you have an object of the Cat type as one of your parameters. You are guaranteed that that Cat object, however and wherever it was constructed, will have \"color\" and \"Whisker_length\", so you can access these without any error handling code in case one or more properties are missing. This feature is very useful when writing large programs with many different variables; less error handling code means more organized and simple code for others to work with.\n",
    "\n",
    "The purpose of encapsulation is simple: to make sure you cannot interact with objects in ways they are not meant to be interacted with. There may be a value that, when changed, another variable must be changed, or some function must be called, otherwise you program will break down. This is done using **getters and setters**, which are functions that a programmer using the class can call to get or change a property. In these functions, you can preform all of the tasks you need to make sure that your program is ready for a change of value in a property."
   ]
  }
 ],
 "metadata": {
  "kernelspec": {
   "display_name": "Java",
   "language": "java",
   "name": "java"
  },
  "language_info": {
   "codemirror_mode": "java",
   "file_extension": ".jshell",
   "mimetype": "text/x-java-source",
   "name": "Java",
   "pygments_lexer": "java",
   "version": "11.0.7+10-post-Debian-3deb10u1"
  }
 },
 "nbformat": 4,
 "nbformat_minor": 4
}
