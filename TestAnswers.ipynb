{
 "cells": [
  {
   "cell_type": "markdown",
   "metadata": {},
   "source": [
    "# Topic 1\n",
    "\n",
    "### Q1\n",
    "\n",
    "The answer should reference ease of updating code reoccurring code segments, and abstraction, or breaking down a complicated task into simpler, smaller tasks.\n",
    "\n",
    "# Topic 2\n",
    "\n",
    "### Q1\n",
    "\n",
    "Answer should mention how a class defines properties while an object is the manifestation of said properties. The answer could also define each terms in terms of the other; A class is type for objects, and an object is a thing that satisfies the conditions of the class.\n",
    "\n",
    "# Topic 3"
   ]
  }
 ],
 "metadata": {
  "kernelspec": {
   "display_name": "Java",
   "language": "java",
   "name": "java"
  },
  "language_info": {
   "codemirror_mode": "java",
   "file_extension": ".jshell",
   "mimetype": "text/x-java-source",
   "name": "Java",
   "pygments_lexer": "java",
   "version": "11.0.7+10-post-Debian-3deb10u1"
  }
 },
 "nbformat": 4,
 "nbformat_minor": 4
}
